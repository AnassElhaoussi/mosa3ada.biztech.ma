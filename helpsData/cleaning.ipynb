{
 "cells": [
  {
   "cell_type": "markdown",
   "metadata": {},
   "source": [
    "# Cleaning rules:\n",
    "\n",
    "An aid call is valid only if it's satisfying one of the following criteria: \n",
    "- Has a valid coords:  valid longitude, latitude\n",
    "- Has a non empty city and location\n"
   ]
  },
  {
   "cell_type": "code",
   "execution_count": 34,
   "metadata": {},
   "outputs": [],
   "source": [
    "import json\n",
    "\n",
    "def validate_latitude_longitude(latitude, longitude):\n",
    "    try:\n",
    "        latitude = float(latitude)\n",
    "        longitude = float(longitude)\n",
    "        if -90 <= latitude <= 90 and -180 <= longitude <= 180:\n",
    "            return True\n",
    "        else:\n",
    "            return False\n",
    "    except ValueError:\n",
    "        return False\n",
    "    \n",
    "def deduplicate_list(data_list):\n",
    "    \"\"\"Deduplicating the elements based on location, and exact_position\n",
    "    \"\"\"\n",
    "    unique_location_elements = {}\n",
    "    deduplicated_list = []\n",
    "\n",
    "    for element in data_list:\n",
    "        location = element[\"data\"][\"location\"]\n",
    "        position = element[\"data\"][\"exact_position\"]\n",
    "\n",
    "        if location not in unique_location_elements:\n",
    "            unique_location_elements[location] = element\n",
    "        else:\n",
    "            existing_element = unique_location_elements[location]\n",
    "            if existing_element[\"data\"][\"exact_position\"] != position:\n",
    "                if len(element[\"data\"].keys()) > len(existing_element[\"data\"].keys()):\n",
    "                    unique_location_elements[location] = element\n",
    "\n",
    "    deduplicated_list = list(unique_location_elements.values())\n",
    "\n",
    "    return deduplicated_list\n",
    "\n",
    "with open('helpsV2.json', 'r') as file:\n",
    "    data = json.load(file)\n",
    "\n"
   ]
  },
  {
   "cell_type": "code",
   "execution_count": 49,
   "metadata": {},
   "outputs": [],
   "source": [
    "valid_elements = []\n",
    "invalid_elements = []\n",
    "\n",
    "# first deduplicating elements based on same location or same geographical coords\n",
    "deduplicated_data = deduplicate_list(data)\n",
    "\n",
    "# Then checking the quality of the data\n",
    "for element in deduplicated_data:\n",
    "    element_data = element.get(\"data\", {})\n",
    "    exact_position = element_data.get(\"exact_position\", {})\n",
    "    \n",
    "    if exact_position:\n",
    "    \n",
    "        latitude = exact_position.get(\"latitude\")\n",
    "        longitude = exact_position.get(\"longitude\")\n",
    "        \n",
    "        if validate_latitude_longitude(latitude, longitude):\n",
    "            valid_elements.append(element)\n",
    "            continue\n",
    "    \n",
    "    if element_data[\"city\"].strip() not in [None, \"\"] and element_data[\"location\"].strip() not in [None, \"\"]:\n",
    "        valid_elements.append(element)\n",
    "        continue\n",
    "    \n",
    "    invalid_elements.append(element)\n",
    "\n",
    "    "
   ]
  },
  {
   "cell_type": "code",
   "execution_count": 53,
   "metadata": {},
   "outputs": [
    {
     "name": "stdout",
     "output_type": "stream",
     "text": [
      "Number of cleaned elements 94 vs number of initial elements: 97. Saving result\n"
     ]
    }
   ],
   "source": [
    "print(f\"Number of cleaned elements {len(valid_elements)} vs number of initial elements: {len(data)}. Saving result\")\n",
    "\n",
    "output_file = \"helpsV2cleaned.json\"\n",
    "\n",
    "# Write the list of dictionaries to a JSON file\n",
    "with open(output_file, \"w\", encoding=\"utf-8\") as json_file:\n",
    "    json.dump(valid_elements, json_file, ensure_ascii=False, indent=4)"
   ]
  },
  {
   "cell_type": "markdown",
   "metadata": {},
   "source": [
    "# Cleaning the CSV calls\n",
    "\n",
    "- Normalizing location and deduplicate it"
   ]
  },
  {
   "cell_type": "code",
   "execution_count": 54,
   "metadata": {},
   "outputs": [],
   "source": [
    "import pandas as pd\n",
    "import re\n",
    "\n",
    "df = pd.read_csv('requests.csv')\n",
    "\n",
    "keywords = [\n",
    "    'جماعة',\n",
    "    'قيادة',\n",
    "    'دوار',\n",
    "    'دواوير',\n",
    "    'إقليم',\n",
    "    'نواحي',\n",
    "    \n",
    "]\n",
    "\n",
    "def clean_location(input_string):\n",
    "    # Using regular expressions to match Arabic and Latin letters only\n",
    "    pattern = r'[^a-zA-Z\\u0600-\\u06FF\\s]' \n",
    "    cleaned_string = re.sub(pattern, '', input_string)\n",
    "    \n",
    "    for k in keywords:\n",
    "        cleaned_string = cleaned_string.replace(k, '')\n",
    "        \n",
    "    return cleaned_string.strip()\n",
    "\n",
    "def extract_and_normalize(location):\n",
    "    \"\"\"Extracting and normalizing village names to deduplication\n",
    "    \"\"\"\n",
    "    if isinstance(location, str):\n",
    "        \n",
    "        cleaned_location = clean_location(location)\n",
    "        parts = cleaned_location.split(' ')\n",
    "        parts = [part.strip() for part in parts]  \n",
    "        parts.sort() \n",
    "        return ', '.join(parts)\n",
    "    else:\n",
    "        return None\n",
    "\n",
    "df['normalized_location'] = df['  لأي  جماعة / قيادة / دوار تنتمون ؟'].apply(extract_and_normalize)\n",
    "df = df.dropna(subset=['normalized_location']) # Ignoring village names with non-string values\n",
    "df.drop(columns=['  لأي  جماعة / قيادة / دوار تنتمون ؟'], inplace=True)\n",
    "df.sort_values(by='Horodateur', ascending=False, inplace=True)\n",
    "\n",
    "deduplicated_df = pd.DataFrame()\n",
    "\n",
    "for normalized_location in df['normalized_location'].drop_duplicates():\n",
    "    mask = df['normalized_location'] == normalized_location\n",
    "    most_recent_record = df[mask].iloc[0]\n",
    "    deduplicated_df = pd.concat([deduplicated_df, most_recent_record.to_frame().T], ignore_index=True)\n",
    "\n",
    "\n",
    "deduplicated_df.reset_index(drop=True, inplace=True)\n",
    "deduplicated_df.to_csv('deduplicated_output.csv', index=False)\n"
   ]
  },
  {
   "cell_type": "code",
   "execution_count": null,
   "metadata": {},
   "outputs": [],
   "source": []
  }
 ],
 "metadata": {
  "kernelspec": {
   "display_name": "Python 3",
   "language": "python",
   "name": "python3"
  },
  "language_info": {
   "codemirror_mode": {
    "name": "ipython",
    "version": 3
   },
   "file_extension": ".py",
   "mimetype": "text/x-python",
   "name": "python",
   "nbconvert_exporter": "python",
   "pygments_lexer": "ipython3",
   "version": "3.11.5"
  },
  "orig_nbformat": 4
 },
 "nbformat": 4,
 "nbformat_minor": 2
}
